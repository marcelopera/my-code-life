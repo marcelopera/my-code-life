{
 "cells": [
  {
   "cell_type": "code",
   "execution_count": 1,
   "metadata": {},
   "outputs": [],
   "source": [
    "import pandas as pd\n",
    "import requests"
   ]
  },
  {
   "cell_type": "code",
   "execution_count": 2,
   "metadata": {},
   "outputs": [],
   "source": [
    "session = requests.Session()"
   ]
  },
  {
   "cell_type": "code",
   "execution_count": 70,
   "metadata": {},
   "outputs": [],
   "source": [
    "class OlhoVivo:\n",
    "\n",
    "    def __init__ (self):\n",
    "        self.session = requests.Session()\n",
    "        self.URL_API = \"http://api.olhovivo.sptrans.com.br/v2.1\"\n",
    "\n",
    "    def autentica (self, token):\n",
    "        self.session.post(self.URL_API + f\"/Login/Autenticar?token={token}\")\n",
    "    \n",
    "    def busca_linha (self, linha):\n",
    "        return self.session.get(self.URL_API + f\"/Linha/Buscar?termosBusca={linha}\")\n",
    "\n",
    "    def busca_linha_sentido (self, linha: str, sentido: int):\n",
    "        return self.session.get(self.URL_API + f\"/Linha/BuscarLinhaSentido?termosBusca={linha}&sentido={sentido}\")\n",
    "\n",
    "    def busca_empresas (self)\n",
    "        return self.session.get(self.URL + \"/Empresa\")"
   ]
  },
  {
   "cell_type": "code",
   "execution_count": 71,
   "metadata": {},
   "outputs": [],
   "source": [
    "minha_consulta = OlhoVivo()\n",
    "minha_consulta.autentica(\"193128762a8707347d612a9fd4dc26357d3085173aef1fce4ccf616c571d8020\")"
   ]
  },
  {
   "cell_type": "code",
   "execution_count": null,
   "metadata": {},
   "outputs": [],
   "source": [
    "response = minha_consulta.busca_linha(\"3414\")\n",
    "print(response.json())\n",
    "response = minha_consulta.busca_linha(\"8032\")\n",
    "print(response.json())"
   ]
  },
  {
   "cell_type": "code",
   "execution_count": 72,
   "metadata": {},
   "outputs": [
    {
     "name": "stdout",
     "output_type": "stream",
     "text": [
      "[{'cl': 746, 'lc': False, 'lt': '3414', 'sl': 1, 'tl': 10, 'tp': 'TERM. PQ. D. PEDRO II', 'ts': 'VL. DALILA'}]\n"
     ]
    }
   ],
   "source": [
    "response = minha_consulta.busca_linha_sentido(\"3414\", 1)\n",
    "print(response.json())"
   ]
  }
 ],
 "metadata": {
  "kernelspec": {
   "display_name": "Python 3",
   "language": "python",
   "name": "python3"
  },
  "language_info": {
   "codemirror_mode": {
    "name": "ipython",
    "version": 3
   },
   "file_extension": ".py",
   "mimetype": "text/x-python",
   "name": "python",
   "nbconvert_exporter": "python",
   "pygments_lexer": "ipython3",
   "version": "3.10.12"
  }
 },
 "nbformat": 4,
 "nbformat_minor": 2
}
